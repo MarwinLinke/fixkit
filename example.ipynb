{
 "cells": [
  {
   "metadata": {},
   "cell_type": "markdown",
   "source": [
    "# FixKit Example\n",
    "\n",
    "In this example we demonstrate how to use FixKit to fix a bug in a Python function.\n",
    "We will use the `middle_2` bug from the `tests4py` package as an example."
   ],
   "id": "b3721460c5f9b193"
  },
  {
   "metadata": {},
   "cell_type": "markdown",
   "source": [
    "## Step 1: Getting the Faulty Program\n",
    "\n",
    "We will first get the faulty program by checking out the `middle_2` bug from the `tests4py` package.\n",
    "\n",
    "We are going to import the `tests4py` API as `t4p` and then call the `checkout` function with the `middle_2` bug and \n",
    "`tmp` as an output directory."
   ],
   "id": "c9fa25c03e53fce8"
  },
  {
   "metadata": {
    "ExecuteTime": {
     "end_time": "2024-06-25T12:39:56.174930Z",
     "start_time": "2024-06-25T12:39:55.318172Z"
    }
   },
   "cell_type": "code",
   "source": [
    "from pathlib import Path\n",
    "import tests4py.api as t4p"
   ],
   "id": "initial_id",
   "outputs": [
    {
     "name": "stderr",
     "output_type": "stream",
     "text": [
      "tests4py :: INFO     :: Loading projects\n"
     ]
    }
   ],
   "execution_count": 1
  },
  {
   "metadata": {
    "ExecuteTime": {
     "end_time": "2024-06-25T12:39:56.445917Z",
     "start_time": "2024-06-25T12:39:56.177703Z"
    }
   },
   "cell_type": "code",
   "source": [
    "report = t4p.checkout(t4p.middle_2, Path(\"tmp\"))\n",
    "if report.raised: raise report.raised"
   ],
   "id": "1756c2040eb7ec16",
   "outputs": [
    {
     "name": "stderr",
     "output_type": "stream",
     "text": [
      "tests4py :: INFO     :: Copying https://github.com/smythi93/middle from /Users/marius/.t4p/projects/middle into tmp/middle_2... \n",
      "tests4py :: INFO     :: Resetting git at tmp/middle_2 to 029cb8beb7bfc0f2853dfa9504dcdfcc753b051e\n",
      "tests4py :: INFO     :: Creating tmp location at /Users/marius/Desktop/work/projects/fixkit/tmp/tmp_middle\n",
      "tests4py :: INFO     :: Copying required files to /Users/marius/Desktop/work/projects/fixkit/tmp/tmp_middle\n",
      "tests4py :: INFO     :: Checkout buggy commit id eed99fa2741bd28744231dfcac0ea34679532bf9\n",
      "tests4py :: INFO     :: Copying required files from /Users/marius/Desktop/work/projects/fixkit/tmp/tmp_middle\n",
      "tests4py :: INFO     :: Create info file\n",
      "tests4py :: INFO     :: Copying resources for middle_2\n"
     ]
    }
   ],
   "execution_count": 2
  },
  {
   "metadata": {},
   "cell_type": "markdown",
   "source": [
    "## Step 2: Setting up the Repair Approach\n",
    "\n",
    "In this step, we will set up the repair approach.\n",
    "We will use AE to fix the bug in `middle_2` in this example."
   ],
   "id": "231e45ef63c81b50"
  },
  {
   "metadata": {},
   "cell_type": "code",
   "outputs": [],
   "execution_count": null,
   "source": "from fixkit.repair import AE",
   "id": "a7014587440e82a8"
  }
 ],
 "metadata": {
  "kernelspec": {
   "display_name": "Python 3",
   "language": "python",
   "name": "python3"
  },
  "language_info": {
   "codemirror_mode": {
    "name": "ipython",
    "version": 2
   },
   "file_extension": ".py",
   "mimetype": "text/x-python",
   "name": "python",
   "nbconvert_exporter": "python",
   "pygments_lexer": "ipython2",
   "version": "2.7.6"
  }
 },
 "nbformat": 4,
 "nbformat_minor": 5
}
