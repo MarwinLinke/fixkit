{
 "cells": [
  {
   "metadata": {},
   "cell_type": "markdown",
   "source": [
    "# FixKit Example\n",
    "\n",
    "In this example we demonstrate how to use FixKit to fix a bug in a Python function.\n",
    "We will use the `middle_2` bug from the `tests4py` package as an example."
   ],
   "id": "b3721460c5f9b193"
  },
  {
   "metadata": {},
   "cell_type": "markdown",
   "source": [
    "## Step 1: Getting the Faulty Program\n",
    "\n",
    "We will first get the faulty program by checking out the `middle_2` bug from the `tests4py` package.\n",
    "\n",
    "We are going to import the `tests4py` API as `t4p` and then call the `checkout` function with the `middle_2` bug and \n",
    "`tmp` as an output directory."
   ],
   "id": "c9fa25c03e53fce8"
  },
  {
   "metadata": {
    "ExecuteTime": {
     "end_time": "2024-06-25T20:29:40.290071Z",
     "start_time": "2024-06-25T20:29:39.494307Z"
    }
   },
   "cell_type": "code",
   "source": [
    "from pathlib import Path\n",
    "import tests4py.api as t4p"
   ],
   "id": "initial_id",
   "outputs": [
    {
     "name": "stderr",
     "output_type": "stream",
     "text": [
      "tests4py :: INFO     :: Loading projects\n"
     ]
    }
   ],
   "execution_count": 1
  },
  {
   "metadata": {
    "ExecuteTime": {
     "end_time": "2024-06-25T20:29:40.507994Z",
     "start_time": "2024-06-25T20:29:40.293243Z"
    }
   },
   "cell_type": "code",
   "source": [
    "report = t4p.checkout(t4p.middle_2, Path(\"tmp\"))\n",
    "if report.raised: raise report.raised"
   ],
   "id": "1756c2040eb7ec16",
   "outputs": [
    {
     "name": "stderr",
     "output_type": "stream",
     "text": [
      "tests4py :: INFO     :: Copying https://github.com/smythi93/middle from /Users/marius/.t4p/projects/middle into tmp/middle_2... \n",
      "tests4py :: INFO     :: Resetting git at tmp/middle_2 to 029cb8beb7bfc0f2853dfa9504dcdfcc753b051e\n",
      "tests4py :: INFO     :: Creating tmp location at /Users/marius/Desktop/work/projects/fixkit/tmp/tmp_middle\n",
      "tests4py :: INFO     :: Copying required files to /Users/marius/Desktop/work/projects/fixkit/tmp/tmp_middle\n",
      "tests4py :: INFO     :: Checkout buggy commit id eed99fa2741bd28744231dfcac0ea34679532bf9\n",
      "tests4py :: INFO     :: Copying required files from /Users/marius/Desktop/work/projects/fixkit/tmp/tmp_middle\n",
      "tests4py :: INFO     :: Create info file\n",
      "tests4py :: INFO     :: Copying resources for middle_2\n"
     ]
    }
   ],
   "execution_count": 2
  },
  {
   "metadata": {},
   "cell_type": "markdown",
   "source": [
    "## Step 2: Setting up the Repair Approach\n",
    "\n",
    "In this step, we will set up the repair approach.\n",
    "We will use AE to fix the bug in `middle_2` in this example.\n",
    "\n",
    "We will use the `PyAE` class from the `fixkit.repair.pyae` module to set up the repair approach.\n",
    "We need to provide the source directory, the localization, and the maximal number of mutations `k`.\n",
    "As the `middle_2` bug from `tests4py`, we will use the `Tests4PyLocalization` class from the \n",
    "`fixkit.localization.t4p` module to localize the fault.\n",
    "\n",
    "Moreover, we will set the `is_t4p` parameter to `True` to indicate that the bug is from `tests4py`.\n",
    "\n",
    "Finally, we will set the `line_mode` parameter to `True`. \n",
    "With this parameter, the repair approach will only consider statements that are inline, i.e., not containing a block.\n",
    "For example, the repair approach will consider the statement `return x` but not the statement `if x: return x`."
   ],
   "id": "231e45ef63c81b50"
  },
  {
   "metadata": {
    "ExecuteTime": {
     "end_time": "2024-06-25T20:29:40.577499Z",
     "start_time": "2024-06-25T20:29:40.510139Z"
    }
   },
   "cell_type": "code",
   "source": [
    "from fixkit.repair.pyae import PyAE\n",
    "from fixkit.localization.t4p import Tests4PyLocalization\n",
    "from fixkit.constants import DEFAULT_EXCLUDES"
   ],
   "id": "a7014587440e82a8",
   "outputs": [],
   "execution_count": 3
  },
  {
   "metadata": {
    "ExecuteTime": {
     "end_time": "2024-06-25T20:29:40.598252Z",
     "start_time": "2024-06-25T20:29:40.581590Z"
    }
   },
   "cell_type": "code",
   "source": [
    "approach = PyAE.from_source(\n",
    "    Path(\"tmp\", \"middle_2\"),\n",
    "    excludes=DEFAULT_EXCLUDES,\n",
    "    localization=Tests4PyLocalization(\n",
    "        Path(\"tmp\", \"middle_2\"),\n",
    "        events=[\"line\"],\n",
    "        predicates=[\"line\"],\n",
    "        metric=\"Ochiai\",\n",
    "    ),\n",
    "    k=1,\n",
    "    is_t4p=True,\n",
    "    line_mode=True,\n",
    ")"
   ],
   "id": "f6718d5b54222071",
   "outputs": [
    {
     "name": "stderr",
     "output_type": "stream",
     "text": [
      "fixkit :: INFO     :: Searching for statements in the source.\n",
      "fixkit :: INFO     :: Building the initial candidate.\n"
     ]
    }
   ],
   "execution_count": 4
  },
  {
   "metadata": {},
   "cell_type": "markdown",
   "source": "With the repair approach set up, we can now repair the bug in `middle_2`.",
   "id": "6a421629c8f3abae"
  },
  {
   "metadata": {
    "ExecuteTime": {
     "end_time": "2024-06-25T20:29:57.170131Z",
     "start_time": "2024-06-25T20:29:40.600131Z"
    }
   },
   "cell_type": "code",
   "source": "patches = approach.repair()",
   "id": "cae7dc8fccab0ff6",
   "outputs": [
    {
     "name": "stderr",
     "output_type": "stream",
     "text": [
      "fixkit :: INFO     :: Localizing the faulty code locations.\n",
      "tests4py :: INFO     :: Checking whether Tests4Py project\n",
      "tests4py :: INFO     :: Loading projects\n",
      "sflkit :: INFO     :: I found 10 events in /Users/marius/Desktop/work/projects/fixkit/tmp/middle_2/src/middle/__init__.py.\n",
      "sflkit :: INFO     :: I found 10 events in /Users/marius/Desktop/work/projects/fixkit/tmp/middle_2.\n",
      "tests4py :: INFO     :: Checking whether Tests4Py project\n",
      "tests4py :: INFO     :: Loading projects\n",
      "tests4py :: INFO     :: Checking for platform darwin\n",
      "tests4py :: INFO     :: Check for activated python version\n",
      "tests4py :: INFO     :: Using pyenv python 3.10.9\n",
      "tests4py :: INFO     :: Activating virtual env\n",
      "tests4py :: INFO     :: Run setup\n",
      "\n",
      "\u001B[1m[\u001B[0m\u001B[34;49mnotice\u001B[0m\u001B[1;39;49m]\u001B[0m\u001B[39;49m A new release of pip is available: \u001B[0m\u001B[31;49m23.2.1\u001B[0m\u001B[39;49m -> \u001B[0m\u001B[32;49m24.1\u001B[0m\n",
      "\u001B[1m[\u001B[0m\u001B[34;49mnotice\u001B[0m\u001B[1;39;49m]\u001B[0m\u001B[39;49m To update, run: \u001B[0m\u001B[32;49mpip install --upgrade pip\u001B[0m\n",
      "tests4py :: INFO     :: Set compiled flag\n",
      "tests4py :: INFO     :: Checking whether Tests4Py project\n",
      "tests4py :: INFO     :: Loading projects\n",
      "tests4py :: INFO     :: Checking for platform darwin\n",
      "tests4py :: INFO     :: Check for activated python version\n",
      "tests4py :: INFO     :: Using pyenv python 3.10.9\n",
      "tests4py :: INFO     :: Activating virtual env\n",
      "tests4py :: INFO     :: Checking whether Tests4Py project\n",
      "tests4py :: INFO     :: Loading projects\n",
      "tests4py :: INFO     :: Checking whether Tests4Py project\n",
      "tests4py :: INFO     :: Loading projects\n",
      "tests4py :: INFO     :: middle_2_buggy already compiled\n",
      "tests4py :: INFO     :: Checking whether Tests4Py project\n",
      "tests4py :: INFO     :: Loading projects\n",
      "tests4py :: INFO     :: Checking for platform darwin\n",
      "tests4py :: INFO     :: Check for activated python version\n",
      "tests4py :: INFO     :: Using pyenv python 3.10.9\n",
      "tests4py :: INFO     :: Activating virtual env\n",
      "tests4py :: INFO     :: Run tests with command ['python', '-m', 'pytest', '--rootdir=/Users/marius/Desktop/work/projects/fixkit/rep/sequential', '--junit-xml=/Users/marius/Desktop/work/projects/fixkit/rep/iterative.xml', PosixPath('tests/test_middle.py')]\n",
      "tests4py :: INFO     :: \u001B[1m============================= test session starts ==============================\u001B[0m\n",
      "platform darwin -- Python 3.10.9, pytest-7.4.1, pluggy-1.3.0\n",
      "rootdir: /Users/marius/Desktop/work/projects/fixkit/rep/sequential\n",
      "collected 6 items\n",
      "\n",
      "tests/test_middle.py \u001B[32m.\u001B[0m\u001B[31mF\u001B[0m\u001B[32m.\u001B[0m\u001B[31mF\u001B[0m\u001B[32m.\u001B[0m\u001B[32m.\u001B[0m\u001B[31m                                              [100%]\u001B[0m\n",
      "\n",
      "=================================== FAILURES ===================================\n",
      "\u001B[31m\u001B[1m__________________________ TestMiddle.test_middle_213 __________________________\u001B[0m\n",
      "\n",
      "self = <test_middle.TestMiddle testMethod=test_middle_213>\n",
      "\n",
      "    def test_middle_213(self):\n",
      ">       self.assertEqual(2, middle(2, 1, 3))\n",
      "\u001B[1m\u001B[31mE       AssertionError: 2 != 3\u001B[0m\n",
      "\n",
      "\u001B[1m\u001B[31mtests/test_middle.py\u001B[0m:23: AssertionError\n",
      "\u001B[31m\u001B[1m__________________________ TestMiddle.test_middle_335 __________________________\u001B[0m\n",
      "\n",
      "self = <test_middle.TestMiddle testMethod=test_middle_335>\n",
      "\n",
      "    def test_middle_335(self):\n",
      ">       self.assertEqual(3, middle(3, 3, 5))\n",
      "\u001B[1m\u001B[31mE       AssertionError: 3 != 5\u001B[0m\n",
      "\n",
      "\u001B[1m\u001B[31mtests/test_middle.py\u001B[0m:8: AssertionError\n",
      "- generated xml file: /Users/marius/Desktop/work/projects/fixkit/rep/iterative.xml -\n",
      "\u001B[36m\u001B[1m=========================== short test summary info ============================\u001B[0m\n",
      "\u001B[31mFAILED\u001B[0m tests/test_middle.py::\u001B[1mTestMiddle::test_middle_213\u001B[0m - AssertionError: 2 != 3\n",
      "\u001B[31mFAILED\u001B[0m tests/test_middle.py::\u001B[1mTestMiddle::test_middle_335\u001B[0m - AssertionError: 3 != 5\n",
      "\u001B[31m========================= \u001B[31m\u001B[1m2 failed\u001B[0m, \u001B[32m4 passed\u001B[0m\u001B[31m in 0.07s\u001B[0m\u001B[31m ==========================\u001B[0m\n",
      "\n",
      "tests4py :: INFO     :: Ran 6 tests\n",
      "tests4py :: INFO     :: 4 passed --- 2 failed\n",
      "tests4py :: INFO     :: Checking whether Tests4Py project\n",
      "tests4py :: INFO     :: Loading projects\n",
      "tests4py :: INFO     :: middle_2_buggy already compiled\n",
      "tests4py :: INFO     :: Checking whether Tests4Py project\n",
      "tests4py :: INFO     :: Loading projects\n",
      "tests4py :: INFO     :: Checking for platform darwin\n",
      "tests4py :: INFO     :: Check for activated python version\n",
      "tests4py :: INFO     :: Using pyenv python 3.10.9\n",
      "tests4py :: INFO     :: Activating virtual env\n",
      "tests4py :: INFO     :: Run tests with command ['python', '-m', 'pytest', '--rootdir=/Users/marius/Desktop/work/projects/fixkit/rep/sequential', '--junit-xml=/Users/marius/Desktop/work/projects/fixkit/rep/iterative.xml', PosixPath('tests/test_middle.py')]\n",
      "tests4py :: INFO     :: \u001B[1m============================= test session starts ==============================\u001B[0m\n",
      "platform darwin -- Python 3.10.9, pytest-7.4.1, pluggy-1.3.0\n",
      "rootdir: /Users/marius/Desktop/work/projects/fixkit/rep/sequential\n",
      "collected 6 items\n",
      "\n",
      "tests/test_middle.py \u001B[32m.\u001B[0m\u001B[32m.\u001B[0m\u001B[32m.\u001B[0m\u001B[32m.\u001B[0m\u001B[32m.\u001B[0m\u001B[32m.\u001B[0m\u001B[32m                                              [100%]\u001B[0m\n",
      "\n",
      "- generated xml file: /Users/marius/Desktop/work/projects/fixkit/rep/iterative.xml -\n",
      "\u001B[32m============================== \u001B[32m\u001B[1m6 passed\u001B[0m\u001B[32m in 0.03s\u001B[0m\u001B[32m ===============================\u001B[0m\n",
      "\n",
      "tests4py :: INFO     :: Ran 6 tests\n",
      "tests4py :: INFO     :: 6 passed --- 0 failed\n",
      "tests4py :: INFO     :: Checking whether Tests4Py project\n",
      "tests4py :: INFO     :: Loading projects\n",
      "tests4py :: INFO     :: Checking for platform darwin\n",
      "tests4py :: INFO     :: Check for activated python version\n",
      "tests4py :: INFO     :: Using pyenv python 3.10.9\n",
      "tests4py :: INFO     :: Activating virtual env\n",
      "tests4py :: INFO     :: Run tests with command ['python', '-m', 'pytest', '--rootdir=/Users/marius/Desktop/work/projects/fixkit/rep/sequential', '--junit-xml=/Users/marius/Desktop/work/projects/fixkit/rep/iterative.xml', PosixPath('tests/test_middle.py')]\n",
      "tests4py :: INFO     :: \u001B[1m============================= test session starts ==============================\u001B[0m\n",
      "platform darwin -- Python 3.10.9, pytest-7.4.1, pluggy-1.3.0\n",
      "rootdir: /Users/marius/Desktop/work/projects/fixkit/rep/sequential\n",
      "collected 6 items\n",
      "\n",
      "tests/test_middle.py \u001B[32m.\u001B[0m\u001B[32m.\u001B[0m\u001B[32m.\u001B[0m\u001B[32m.\u001B[0m\u001B[32m.\u001B[0m\u001B[32m.\u001B[0m\u001B[32m                                              [100%]\u001B[0m\n",
      "\n",
      "- generated xml file: /Users/marius/Desktop/work/projects/fixkit/rep/iterative.xml -\n",
      "\u001B[32m============================== \u001B[32m\u001B[1m6 passed\u001B[0m\u001B[32m in 0.03s\u001B[0m\u001B[32m ===============================\u001B[0m\n",
      "\n",
      "tests4py :: INFO     :: Ran 6 tests\n",
      "tests4py :: INFO     :: 6 passed --- 0 failed\n",
      "tests4py :: INFO     :: Checking whether Tests4Py project\n",
      "tests4py :: INFO     :: Loading projects\n",
      "tests4py :: INFO     :: Checking for platform darwin\n",
      "tests4py :: INFO     :: Check for activated python version\n",
      "tests4py :: INFO     :: Using pyenv python 3.10.9\n",
      "tests4py :: INFO     :: Activating virtual env\n",
      "tests4py :: INFO     :: Run tests with command ['python', '-m', 'pytest', '--rootdir=/Users/marius/Desktop/work/projects/fixkit/rep/sequential', '--junit-xml=/Users/marius/Desktop/work/projects/fixkit/rep/iterative.xml', PosixPath('tests/test_middle.py')]\n",
      "tests4py :: INFO     :: \u001B[1m============================= test session starts ==============================\u001B[0m\n",
      "platform darwin -- Python 3.10.9, pytest-7.4.1, pluggy-1.3.0\n",
      "rootdir: /Users/marius/Desktop/work/projects/fixkit/rep/sequential\n",
      "collected 6 items\n",
      "\n",
      "tests/test_middle.py \u001B[32m.\u001B[0m\u001B[32m.\u001B[0m\u001B[32m.\u001B[0m\u001B[32m.\u001B[0m\u001B[32m.\u001B[0m\u001B[32m.\u001B[0m\u001B[32m                                              [100%]\u001B[0m\n",
      "\n",
      "- generated xml file: /Users/marius/Desktop/work/projects/fixkit/rep/iterative.xml -\n",
      "\u001B[32m============================== \u001B[32m\u001B[1m6 passed\u001B[0m\u001B[32m in 0.03s\u001B[0m\u001B[32m ===============================\u001B[0m\n",
      "\n",
      "tests4py :: INFO     :: Ran 6 tests\n",
      "tests4py :: INFO     :: 6 passed --- 0 failed\n",
      "tests4py :: INFO     :: Checking whether Tests4Py project\n",
      "tests4py :: INFO     :: Loading projects\n",
      "tests4py :: INFO     :: Checking for platform darwin\n",
      "tests4py :: INFO     :: Check for activated python version\n",
      "tests4py :: INFO     :: Using pyenv python 3.10.9\n",
      "tests4py :: INFO     :: Activating virtual env\n",
      "tests4py :: INFO     :: Run tests with command ['python', '-m', 'pytest', '--rootdir=/Users/marius/Desktop/work/projects/fixkit/rep/sequential', '--junit-xml=/Users/marius/Desktop/work/projects/fixkit/rep/iterative.xml', PosixPath('tests/test_middle.py')]\n",
      "tests4py :: INFO     :: \u001B[1m============================= test session starts ==============================\u001B[0m\n",
      "platform darwin -- Python 3.10.9, pytest-7.4.1, pluggy-1.3.0\n",
      "rootdir: /Users/marius/Desktop/work/projects/fixkit/rep/sequential\n",
      "collected 6 items\n",
      "\n",
      "tests/test_middle.py \u001B[32m.\u001B[0m\u001B[32m.\u001B[0m\u001B[32m.\u001B[0m\u001B[32m.\u001B[0m\u001B[32m.\u001B[0m\u001B[32m.\u001B[0m\u001B[32m                                              [100%]\u001B[0m\n",
      "\n",
      "- generated xml file: /Users/marius/Desktop/work/projects/fixkit/rep/iterative.xml -\n",
      "\u001B[32m============================== \u001B[32m\u001B[1m6 passed\u001B[0m\u001B[32m in 0.03s\u001B[0m\u001B[32m ===============================\u001B[0m\n",
      "\n",
      "tests4py :: INFO     :: Ran 6 tests\n",
      "tests4py :: INFO     :: 6 passed --- 0 failed\n",
      "tests4py :: INFO     :: Checking whether Tests4Py project\n",
      "tests4py :: INFO     :: Loading projects\n",
      "tests4py :: INFO     :: Checking for platform darwin\n",
      "tests4py :: INFO     :: Check for activated python version\n",
      "tests4py :: INFO     :: Using pyenv python 3.10.9\n",
      "tests4py :: INFO     :: Activating virtual env\n",
      "tests4py :: INFO     :: Run tests with command ['python', '-m', 'pytest', '--rootdir=/Users/marius/Desktop/work/projects/fixkit/rep/sequential', '--junit-xml=/Users/marius/Desktop/work/projects/fixkit/rep/iterative.xml', PosixPath('tests/test_middle.py')]\n",
      "tests4py :: INFO     :: \u001B[1m============================= test session starts ==============================\u001B[0m\n",
      "platform darwin -- Python 3.10.9, pytest-7.4.1, pluggy-1.3.0\n",
      "rootdir: /Users/marius/Desktop/work/projects/fixkit/rep/sequential\n",
      "collected 6 items\n",
      "\n",
      "tests/test_middle.py \u001B[32m.\u001B[0m\u001B[32m.\u001B[0m\u001B[32m.\u001B[0m\u001B[32m.\u001B[0m\u001B[32m.\u001B[0m\u001B[32m.\u001B[0m\u001B[32m                                              [100%]\u001B[0m\n",
      "\n",
      "- generated xml file: /Users/marius/Desktop/work/projects/fixkit/rep/iterative.xml -\n",
      "\u001B[32m============================== \u001B[32m\u001B[1m6 passed\u001B[0m\u001B[32m in 0.04s\u001B[0m\u001B[32m ===============================\u001B[0m\n",
      "\n",
      "tests4py :: INFO     :: Ran 6 tests\n",
      "tests4py :: INFO     :: 6 passed --- 0 failed\n",
      "tests4py :: INFO     :: Checking whether Tests4Py project\n",
      "tests4py :: INFO     :: Loading projects\n",
      "tests4py :: INFO     :: Checking for platform darwin\n",
      "tests4py :: INFO     :: Check for activated python version\n",
      "tests4py :: INFO     :: Using pyenv python 3.10.9\n",
      "tests4py :: INFO     :: Activating virtual env\n",
      "tests4py :: INFO     :: Run tests with command ['python', '-m', 'pytest', '--rootdir=/Users/marius/Desktop/work/projects/fixkit/rep/sequential', '--junit-xml=/Users/marius/Desktop/work/projects/fixkit/rep/iterative.xml', PosixPath('tests/test_middle.py')]\n",
      "tests4py :: INFO     :: \u001B[1m============================= test session starts ==============================\u001B[0m\n",
      "platform darwin -- Python 3.10.9, pytest-7.4.1, pluggy-1.3.0\n",
      "rootdir: /Users/marius/Desktop/work/projects/fixkit/rep/sequential\n",
      "collected 6 items\n",
      "\n",
      "tests/test_middle.py \u001B[32m.\u001B[0m\u001B[32m.\u001B[0m\u001B[32m.\u001B[0m\u001B[32m.\u001B[0m\u001B[32m.\u001B[0m\u001B[32m.\u001B[0m\u001B[32m                                              [100%]\u001B[0m\n",
      "\n",
      "- generated xml file: /Users/marius/Desktop/work/projects/fixkit/rep/iterative.xml -\n",
      "\u001B[32m============================== \u001B[32m\u001B[1m6 passed\u001B[0m\u001B[32m in 0.03s\u001B[0m\u001B[32m ===============================\u001B[0m\n",
      "\n",
      "tests4py :: INFO     :: Ran 6 tests\n",
      "tests4py :: INFO     :: 6 passed --- 0 failed\n",
      "fixkit :: INFO     :: The best candidate has a fitness of 0.00.\n",
      "fixkit :: INFO     :: Minimize the best candidates.\n",
      "fixkit :: INFO     :: Found 1 possible repairs.\n"
     ]
    }
   ],
   "execution_count": 5
  },
  {
   "metadata": {},
   "cell_type": "markdown",
   "source": [
    "This will return a list of possible patches.\n",
    "Since AE is deterministic and stops as soon as a possible repair is found, the list will contain only one patch, \n",
    "if one patch is found."
   ],
   "id": "ebd69aac00bb2031"
  },
  {
   "metadata": {
    "ExecuteTime": {
     "end_time": "2024-06-25T20:29:57.179006Z",
     "start_time": "2024-06-25T20:29:57.173404Z"
    }
   },
   "cell_type": "code",
   "source": "patch = patches[0]",
   "id": "cde691bcee9e75e1",
   "outputs": [],
   "execution_count": 6
  },
  {
   "metadata": {},
   "cell_type": "markdown",
   "source": "We can now investigate the mutations the patch applies.",
   "id": "d3512508309ac6e8"
  },
  {
   "metadata": {
    "ExecuteTime": {
     "end_time": "2024-06-25T20:29:57.193535Z",
     "start_time": "2024-06-25T20:29:57.181956Z"
    }
   },
   "cell_type": "code",
   "source": "patch.mutations",
   "id": "8a6e06e9cb6a9d95",
   "outputs": [
    {
     "data": {
      "text/plain": [
       "[InsertBefore(1,3)]"
      ]
     },
     "execution_count": 7,
     "metadata": {},
     "output_type": "execute_result"
    }
   ],
   "execution_count": 7
  },
  {
   "metadata": {},
   "cell_type": "markdown",
   "source": [
    "Let us check what statements are affected by the patch.\n",
    "The mutation inserts statement 3 before statement 1."
   ],
   "id": "5714f098bb4bc52e"
  },
  {
   "metadata": {
    "ExecuteTime": {
     "end_time": "2024-06-25T20:29:57.199469Z",
     "start_time": "2024-06-25T20:29:57.195456Z"
    }
   },
   "cell_type": "code",
   "source": [
    "import ast\n",
    "print(ast.unparse(patch.statements[3]))"
   ],
   "id": "200a31e5e70e0ea2",
   "outputs": [
    {
     "name": "stdout",
     "output_type": "stream",
     "text": [
      "return x\n"
     ]
    }
   ],
   "execution_count": 8
  },
  {
   "metadata": {
    "ExecuteTime": {
     "end_time": "2024-06-25T20:29:57.209096Z",
     "start_time": "2024-06-25T20:29:57.202983Z"
    }
   },
   "cell_type": "code",
   "source": "print(ast.unparse(patch.statements[1]))",
   "id": "ae5d7e75e5e1f373",
   "outputs": [
    {
     "name": "stdout",
     "output_type": "stream",
     "text": [
      "return y\n"
     ]
    }
   ],
   "execution_count": 9
  },
  {
   "metadata": {},
   "cell_type": "markdown",
   "source": "So the patch inserts the statement `return x` before the statement `return y`.",
   "id": "707fb0bc84b82e26"
  },
  {
   "metadata": {},
   "cell_type": "markdown",
   "source": [
    "## Step 3: Applying the Patch\n",
    "\n",
    "Finally, we can apply the patch to the faulty program to retrieve a patch file that can be used to fix the bug."
   ],
   "id": "1834aeacdb6652ae"
  },
  {
   "metadata": {
    "ExecuteTime": {
     "end_time": "2024-06-25T20:29:57.219424Z",
     "start_time": "2024-06-25T20:29:57.214187Z"
    }
   },
   "cell_type": "code",
   "source": "from fixkit.repair.patch import get_patch",
   "id": "d5fcf320c80ba637",
   "outputs": [],
   "execution_count": 10
  },
  {
   "metadata": {
    "ExecuteTime": {
     "end_time": "2024-06-25T20:29:57.228718Z",
     "start_time": "2024-06-25T20:29:57.221444Z"
    }
   },
   "cell_type": "code",
   "source": "print(get_patch(patch))",
   "id": "53e2871e020ba6e2",
   "outputs": [
    {
     "name": "stdout",
     "output_type": "stream",
     "text": [
      "--- src/middle/__init__.py\n",
      "+++ src/middle/__init__.py\n",
      "@@ -3,10 +3,10 @@\n",
      "         if x < y:\n",
      "             return y\n",
      "         elif x < z:\n",
      "+            return x\n",
      "             return y\n",
      "-    else:\n",
      "-        if x > y:\n",
      "-            return y\n",
      "-        elif x > z:\n",
      "-            return x\n",
      "-    return z\n",
      "+    elif x > y:\n",
      "+        return y\n",
      "+    elif x > z:\n",
      "+        return x\n",
      "+    return z\n",
      "\n"
     ]
    }
   ],
   "execution_count": 11
  },
  {
   "metadata": {},
   "cell_type": "markdown",
   "source": [
    "Since the patch file is derived directly from the code instead of git, it may contain irrelevant artifacts.\n",
    "In this case, the patch file removes code and replaces it with a semantically equivalent code.\n",
    "This equivalent code is produced by the `ast` module that comprises the `else: if:` into an `elif:`."
   ],
   "id": "df411f1791aa4229"
  }
 ],
 "metadata": {
  "kernelspec": {
   "display_name": "Python 3",
   "language": "python",
   "name": "python3"
  },
  "language_info": {
   "codemirror_mode": {
    "name": "ipython",
    "version": 2
   },
   "file_extension": ".py",
   "mimetype": "text/x-python",
   "name": "python",
   "nbconvert_exporter": "python",
   "pygments_lexer": "ipython2",
   "version": "2.7.6"
  }
 },
 "nbformat": 4,
 "nbformat_minor": 5
}
